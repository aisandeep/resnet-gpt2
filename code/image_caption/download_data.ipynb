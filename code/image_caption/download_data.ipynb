{
 "cells": [
  {
   "cell_type": "code",
   "execution_count": 4,
   "metadata": {},
   "outputs": [],
   "source": [
    "# importing prerequisites\n",
    "import sys\n",
    "import requests\n",
    "import tarfile\n",
    "import json\n",
    "import numpy as np\n",
    "from os import path\n",
    "from PIL import Image\n",
    "from PIL import ImageFont, ImageDraw\n",
    "from glob import glob\n",
    "from matplotlib import pyplot as plt\n",
    "%matplotlib inline"
   ]
  },
  {
   "cell_type": "code",
   "execution_count": 5,
   "metadata": {},
   "outputs": [
    {
     "data": {
      "text/plain": [
       "380823"
      ]
     },
     "execution_count": 5,
     "metadata": {},
     "output_type": "execute_result"
    }
   ],
   "source": [
    "\n",
    "fname = 'examples.tar.gz'\n",
    "url = 'https://dax-cdn.cdn.appdomain.cloud/dax-pubtabnet/1.0.0/' + fname\n",
    "r = requests.get(url)\n",
    "open(fname , 'wb').write(r.content)"
   ]
  },
  {
   "cell_type": "code",
   "execution_count": 8,
   "metadata": {},
   "outputs": [],
   "source": [
    "tar = tarfile.open(r'C:\\Users\\sande\\OneDrive\\Desktop\\res+gpt\\table-recognition\\code\\image_caption\\dataset\\examples.tar.gz')\n",
    "tar.extractall()\n",
    "tar.close()\n"
   ]
  },
  {
   "cell_type": "code",
   "execution_count": 9,
   "metadata": {},
   "outputs": [],
   "source": [
    "# Helper function to read in tables from the annotations\n",
    "import re\n",
    "from bs4 import BeautifulSoup as bs\n",
    "\n",
    "def format_html(img):\n",
    "    ''' Formats HTML code from tokenized annotation of img\n",
    "    '''\n",
    "    html_string = '''<html>\n",
    "                     <head>\n",
    "                     <meta charset=\"UTF-8\">\n",
    "                     <style>\n",
    "                     table, th, td {\n",
    "                       border: 1px solid black;\n",
    "                       font-size: 10px;\n",
    "                     }\n",
    "                     </style>\n",
    "                     </head>\n",
    "                     <body>\n",
    "                     <table frame=\"hsides\" rules=\"groups\" width=\"100%%\">\n",
    "                         %s\n",
    "                     </table>\n",
    "                     </body>\n",
    "                     </html>''' % ''.join(img['html']['structure']['tokens'])\n",
    "    cell_nodes = list(re.finditer(r'(<td[^<>]*>)(</td>)', html_string))\n",
    "    assert len(cell_nodes) == len(img['html']['cells']), 'Number of cells defined in tags does not match the length of cells'\n",
    "    cells = [''.join(c['tokens']) for c in img['html']['cells']]\n",
    "    offset = 0\n",
    "    for n, cell in zip(cell_nodes, cells):\n",
    "        html_string = html_string[:n.end(1) + offset] + cell + html_string[n.start(2) + offset:]\n",
    "        offset += len(cell)\n",
    "    # prettify the html\n",
    "    soup = bs(html_string)\n",
    "    html_string = soup.prettify()\n",
    "    return html_string"
   ]
  },
  {
   "cell_type": "code",
   "execution_count": null,
   "metadata": {},
   "outputs": [],
   "source": [
    "# Loading the json annotations\n",
    "with open('/dataset/examples/PubTabNet_Examples.json', 'r') as fp:\n",
    "    annotations = json.load(fp)"
   ]
  },
  {
   "cell_type": "code",
   "execution_count": null,
   "metadata": {},
   "outputs": [],
   "source": [
    "# Inspecting the annotations\n",
    "annotations.keys()"
   ]
  },
  {
   "cell_type": "code",
   "execution_count": null,
   "metadata": {},
   "outputs": [],
   "source": [
    "annotations['images'][0].keys()\n"
   ]
  },
  {
   "cell_type": "code",
   "execution_count": null,
   "metadata": {},
   "outputs": [],
   "source": [
    "annotations['images'][0]"
   ]
  },
  {
   "cell_type": "code",
   "execution_count": null,
   "metadata": {},
   "outputs": [],
   "source": [
    "# Extracting the HTML for the table from the annotation\n",
    "html_string = format_html(annotations['images'][0])\n",
    "print(html_string)"
   ]
  },
  {
   "cell_type": "code",
   "execution_count": null,
   "metadata": {},
   "outputs": [],
   "source": [
    "# Rendering the above HTML in Jupyter Notebook for a more readable format\n",
    "from IPython.core.display import display, HTML\n",
    "display(HTML(html_string))"
   ]
  },
  {
   "cell_type": "code",
   "execution_count": null,
   "metadata": {},
   "outputs": [],
   "source": []
  }
 ],
 "metadata": {
  "kernelspec": {
   "display_name": "res_gpt_venv",
   "language": "python",
   "name": "python3"
  },
  "language_info": {
   "codemirror_mode": {
    "name": "ipython",
    "version": 3
   },
   "file_extension": ".py",
   "mimetype": "text/x-python",
   "name": "python",
   "nbconvert_exporter": "python",
   "pygments_lexer": "ipython3",
   "version": "3.9.10"
  },
  "orig_nbformat": 4,
  "vscode": {
   "interpreter": {
    "hash": "30319ffb463fba200904c76a22f8c468b77c7f15eddb9e10cd2b1c6642ddb181"
   }
  }
 },
 "nbformat": 4,
 "nbformat_minor": 2
}
